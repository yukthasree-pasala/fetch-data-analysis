{
  "nbformat": 4,
  "nbformat_minor": 0,
  "metadata": {
    "colab": {
      "provenance": [],
      "gpuType": "T4",
      "mount_file_id": "1aJYStpiMguhTvcj9iDsAFqPCx6rXMJBK",
      "authorship_tag": "ABX9TyMYIvQ2s68qxKCAHxpxXNTX",
      "include_colab_link": true
    },
    "kernelspec": {
      "name": "python3",
      "display_name": "Python 3"
    },
    "language_info": {
      "name": "python"
    },
    "accelerator": "GPU"
  },
  "cells": [
    {
      "cell_type": "markdown",
      "metadata": {
        "id": "view-in-github",
        "colab_type": "text"
      },
      "source": [
        "<a href=\"https://colab.research.google.com/github/yukthasree-pasala/fetch-data-analysis/blob/main/fetch_data_analysis.ipynb\" target=\"_parent\"><img src=\"https://colab.research.google.com/assets/colab-badge.svg\" alt=\"Open In Colab\"/></a>"
      ]
    },
    {
      "cell_type": "markdown",
      "source": [
        "### Exercise - 1:\n",
        "First: explore the data\n",
        "Review the unstructured csv files and answer the following questions with code that supports your conclusions:\n",
        "\n",
        "* Are there any data quality issues present?\n",
        "* Are there any fields that are challenging to understand?\n",
        "* We recommend using SQL or python and data visualization to examine the data.\n",
        "\n"
      ],
      "metadata": {
        "id": "4tVfSgbE0AoH"
      }
    },
    {
      "cell_type": "code",
      "source": [
        "# Import necessary libraries and mount the drive\n",
        "import pandas as pd\n",
        "from google.colab import drive\n",
        "import matplotlib.pyplot as plt\n",
        "import seaborn as sns # Import seaborn for countplot\n",
        "import sqlite3\n",
        "import numpy as np\n",
        "\n",
        "drive.mount('/content/drive')"
      ],
      "metadata": {
        "colab": {
          "base_uri": "https://localhost:8080/"
        },
        "id": "Y928AbbA1VGT",
        "outputId": "4ea92ba4-f589-4306-e42b-cd6fb5664d26"
      },
      "execution_count": 1,
      "outputs": [
        {
          "output_type": "stream",
          "name": "stdout",
          "text": [
            "Drive already mounted at /content/drive; to attempt to forcibly remount, call drive.mount(\"/content/drive\", force_remount=True).\n"
          ]
        }
      ]
    },
    {
      "cell_type": "code",
      "execution_count": 2,
      "metadata": {
        "id": "sRvYGtTQyRQO"
      },
      "outputs": [],
      "source": [
        "#define file paths\n",
        "products_fp = '/content/drive/MyDrive/fetch-data-analysis/data/PRODUCTS_TAKEHOME.csv'\n",
        "transactions_fp = '/content/drive/MyDrive/fetch-data-analysis/data/TRANSACTION_TAKEHOME.csv'\n",
        "users_fp = '/content/drive/MyDrive/fetch-data-analysis/data/USER_TAKEHOME.csv'\n",
        "\n",
        "#load csv files to df\n",
        "products_df = pd.read_csv(products_fp, dtype={'BARCODE': str})\n",
        "transactions_df = pd.read_csv(transactions_fp, dtype={'BARCODE': str})\n",
        "users_df = pd.read_csv(users_fp)\n",
        "pd.options.display.float_format = '{:.0f}'.format"
      ]
    },
    {
      "cell_type": "code",
      "source": [
        "# Connect to SQLite (in-memory)\n",
        "conn = sqlite3.connect(':memory:')  # For temporary DB\n",
        "cursor = conn.cursor()\n"
      ],
      "metadata": {
        "id": "5Qf2q1d06xS3"
      },
      "execution_count": 3,
      "outputs": []
    },
    {
      "cell_type": "markdown",
      "source": [
        "#Data Quality Analysis"
      ],
      "metadata": {
        "id": "rvprUPoHAHEN"
      }
    },
    {
      "cell_type": "code",
      "source": [
        "def display_dataframe_info(df, df_name):\n",
        "  \"\"\"Displays column names and statistics for a DataFrame in a table format.\"\"\"\n",
        "  print(f\"### {df_name} ###\")\n",
        "  info_df = pd.DataFrame({\n",
        "      'Column Name': df.columns,\n",
        "      'Data Type': df.dtypes,\n",
        "      'Non-Null Count': df.notna().sum(),\n",
        "      'Unique Records': df.nunique(),\n",
        "      'Duplicated Records': df.duplicated().sum(),\n",
        "      'Missing Values': df.isna().sum()\n",
        "\n",
        "  })\n",
        "\n",
        "  print(info_df.to_markdown(index=False))\n",
        "  print(\"\\n\")\n",
        "\n",
        "display_dataframe_info(users_df, \"users_df\")\n",
        "display_dataframe_info(transactions_df, \"transactions_df\")\n",
        "display_dataframe_info(products_df, \"products_df\")\n"
      ],
      "metadata": {
        "colab": {
          "base_uri": "https://localhost:8080/"
        },
        "id": "tiywfeqX7Bh9",
        "outputId": "01b5eb01-5973-4204-d1fc-161927b76a7e"
      },
      "execution_count": 4,
      "outputs": [
        {
          "output_type": "stream",
          "name": "stdout",
          "text": [
            "### users_df ###\n",
            "| Column Name   | Data Type   |   Non-Null Count |   Unique Records |   Duplicated Records |   Missing Values |\n",
            "|:--------------|:------------|-----------------:|-----------------:|---------------------:|-----------------:|\n",
            "| ID            | object      |           100000 |           100000 |                    0 |                0 |\n",
            "| CREATED_DATE  | object      |           100000 |            99942 |                    0 |                0 |\n",
            "| BIRTH_DATE    | object      |            96325 |            54721 |                    0 |             3675 |\n",
            "| STATE         | object      |            95188 |               52 |                    0 |             4812 |\n",
            "| LANGUAGE      | object      |            69492 |                2 |                    0 |            30508 |\n",
            "| GENDER        | object      |            94108 |               11 |                    0 |             5892 |\n",
            "\n",
            "\n",
            "### transactions_df ###\n",
            "| Column Name    | Data Type   |   Non-Null Count |   Unique Records |   Duplicated Records |   Missing Values |\n",
            "|:---------------|:------------|-----------------:|-----------------:|---------------------:|-----------------:|\n",
            "| RECEIPT_ID     | object      |            50000 |            24440 |                  171 |                0 |\n",
            "| PURCHASE_DATE  | object      |            50000 |               89 |                  171 |                0 |\n",
            "| SCAN_DATE      | object      |            50000 |            24440 |                  171 |                0 |\n",
            "| STORE_NAME     | object      |            50000 |              954 |                  171 |                0 |\n",
            "| USER_ID        | object      |            50000 |            17694 |                  171 |                0 |\n",
            "| BARCODE        | object      |            44238 |            11028 |                  171 |             5762 |\n",
            "| FINAL_QUANTITY | object      |            50000 |               87 |                  171 |                0 |\n",
            "| FINAL_SALE     | object      |            50000 |             1435 |                  171 |                0 |\n",
            "\n",
            "\n",
            "### products_df ###\n",
            "| Column Name   | Data Type   |   Non-Null Count |   Unique Records |   Duplicated Records |   Missing Values |\n",
            "|:--------------|:------------|-----------------:|-----------------:|---------------------:|-----------------:|\n",
            "| CATEGORY_1    | object      |           845441 |               27 |                   57 |              111 |\n",
            "| CATEGORY_2    | object      |           844128 |              121 |                   57 |             1424 |\n",
            "| CATEGORY_3    | object      |           784986 |              344 |                   57 |            60566 |\n",
            "| CATEGORY_4    | object      |            67459 |              127 |                   57 |           778093 |\n",
            "| MANUFACTURER  | object      |           619078 |             4354 |                   57 |           226474 |\n",
            "| BRAND         | object      |           619080 |             8122 |                   57 |           226472 |\n",
            "| BARCODE       | object      |           841527 |           841525 |                   57 |             4025 |\n",
            "\n",
            "\n"
          ]
        }
      ]
    },
    {
      "cell_type": "markdown",
      "source": [
        "## Data Quality Issues & Field Understanding Challenges\n",
        "\n",
        "### 📋 **1. Users Dataset (users_df)**\n",
        "\n",
        "**Data Quality Issues:**\n",
        "- **Missing Values:**\n",
        "  - BIRTH_DATE: 3,675 missing (3.68%)\n",
        "  - STATE: 4,812 missing (4.81%)\n",
        "  - LANGUAGE: 30,508 missing (30.51%) - Significant gap\n",
        "  - GENDER: 5,892 missing (5.89%)\n",
        "- **Duplicates:** None detected\n",
        "- **Data Type Issues:** CREATED_DATE and BIRTH_DATE should be datetime, currently stored as object.\n",
        "\n",
        "**Challenging Fields:**\n",
        "- **GENDER (11 unique values):** Inconsistent labels (e.g., \"M\", \"Male\", \"F\", \"Female\", typos). Requires standardization.\n",
        "- **LANGUAGE (2 unique values):** Ambiguity around what the values represent (user preference, locale, etc.).\n",
        "\n",
        "---\n",
        "\n",
        "### 🧾 **2. Transactions Dataset (transactions_df)**\n",
        "\n",
        "**Data Quality Issues:**\n",
        "- **Missing Values:**\n",
        "  - BARCODE: 5,762 missing (11.52%) - Critical for linking with products\n",
        "- **Duplicates:** 171 duplicate records (potential data entry issues)\n",
        "- **Data Type Issues:**\n",
        "  - FINAL_QUANTITY and FINAL_SALE are objects, should be numeric\n",
        "  - PURCHASE_DATE and SCAN_DATE are objects, should be datetime\n",
        "\n",
        "**Challenging Fields:**\n",
        "- **FINAL_QUANTITY & FINAL_SALE:** Possible formatting issues (e.g., special characters). Requires cleaning before analysis.\n",
        "- **BARCODE:** Missing values affect data integrity when joining with products. Need clarification if this is expected.\n",
        "\n",
        "---\n",
        "\n",
        "### 🛒 **3. Products Dataset (products_df)**\n",
        "\n",
        "**Data Quality Issues:**\n",
        "- **Missing Values:**\n",
        "  - CATEGORY_4: 778,093 missing (91.99%) - Extremely sparse\n",
        "  - MANUFACTURER: 226,474 missing (26.77%)\n",
        "  - BRAND: 226,472 missing (26.77%)\n",
        "  - BARCODE: 4,025 missing (0.48%)\n",
        "- **Duplicates:** 215 duplicate records identified\n",
        "\n",
        "**Challenging Fields:**\n",
        "- **CATEGORY_1 to CATEGORY_4:** Hierarchical relationship unclear, impacting categorization analysis.\n",
        "- **MANUFACTURER vs. BRAND:** Unclear if these fields are distinct or overlapping, affecting brand performance analysis.\n",
        "\n",
        "---\n",
        "\n",
        "### **Next steps for above issues:**\n",
        "1. **Data Cleaning:** Remove duplicates, convert data types, standardize GENDER labels.\n",
        "2. **Missing Data Handling:** Impute or investigate missing demographic and product data.\n",
        "\n",
        "\n"
      ],
      "metadata": {
        "id": "KqaZ7uDhAiLS"
      }
    },
    {
      "cell_type": "code",
      "source": [
        "users = users_df.copy()"
      ],
      "metadata": {
        "id": "6H7GDInfIK_J"
      },
      "execution_count": 5,
      "outputs": []
    },
    {
      "cell_type": "code",
      "source": [
        "# ----------------------\n",
        "# USERS DATA CLEANING\n",
        "# ----------------------\n",
        "\n",
        "# Standardize GENDER values\n",
        "gender_map = {\n",
        "    'M': 'Male', 'MALE': 'Male', 'male': 'Male',\n",
        "    'F': 'Female', 'FEMALE': 'Female', 'female': 'Female',\n",
        "    'U': 'Unknown', 'UNKNOWN': 'Unknown', 'UNKOWN': 'Unknown', '': np.nan,\n",
        "    'PREFER NOT TO SAY': 'Prefer not to say', 'Prefer not to say': 'Prefer not to say',\n",
        "    'prefer_not_to_say': 'Prefer not to say',\n",
        "    'NOT_LISTED': 'Not specified', 'NOT_SPECIFIED': 'Not specified',\n",
        "    \"MY GENDER ISN'T LISTED\": 'Not specified',\n",
        "    'NON_BINARY': 'Non-binary', 'NON-BINARY': 'Non-binary', 'Non-Binary': 'Non-binary',\n",
        "    'non_binary': 'Non-binary', 'Non-binary': 'Non-binary',\n",
        "    'TRANSGENDER': 'Transgender', 'transgender': 'Transgender'\n",
        "}\n",
        "\n",
        "# Apply gender mapping efficiently using `.str.upper()` for case insensitivity\n",
        "users['GENDER'] = users['GENDER'].str.upper().map(gender_map).fillna('Unknown')\n",
        "\n",
        "# Fill missing values with 'Unknown' if any are left\n",
        "users['GENDER'] = users['GENDER'].fillna('Unknown')\n",
        "\n",
        "# Handle LANGUAGE missing values (impute with mode)\n",
        "# users['LANGUAGE'] = users['LANGUAGE'].fillna(users['LANGUAGE'].mode()[0])\n",
        "\n",
        "# Handle LANGUAGE missing values (impute with mode)\n",
        "language_map = {\n",
        "    'es-419' : 'Spanish - Latin America',\n",
        "    'en': 'English'\n",
        "}\n",
        "# Apply mapping only to original values\n",
        "users['LANGUAGE'] = users['LANGUAGE'].apply(lambda x: language_map[x] if x in language_map else x).fillna('Unknown')\n",
        "\n",
        "# Fill nulls with Unkown for state\n",
        "users['STATE'] = users['STATE'].fillna('Unkown')\n",
        "\n",
        "# Convert BIRTH_DATE to datetime and handle missing values\n",
        "users['BIRTH_DATE'] = pd.to_datetime(users['BIRTH_DATE'], errors='coerce')"
      ],
      "metadata": {
        "id": "h_PAPxAoIgnR"
      },
      "execution_count": 6,
      "outputs": []
    },
    {
      "cell_type": "code",
      "source": [
        "# display users unique values\n",
        "print(users['GENDER'].unique())\n",
        "print(users['LANGUAGE'].unique())\n",
        "print(users['STATE'].unique())\n",
        "\n"
      ],
      "metadata": {
        "colab": {
          "base_uri": "https://localhost:8080/"
        },
        "id": "o7pu_K2WIiCS",
        "outputId": "29e0e665-efaf-4a5e-e24b-4d2ed54b2aac"
      },
      "execution_count": 7,
      "outputs": [
        {
          "output_type": "stream",
          "name": "stdout",
          "text": [
            "['Female' 'Unknown' 'Male' 'Non-binary' 'Transgender' 'Not specified'\n",
            " 'Prefer not to say']\n",
            "['Spanish - Latin America' 'English' 'Unknown']\n",
            "['CA' 'PA' 'FL' 'NC' 'NY' 'IN' 'Unkown' 'OH' 'TX' 'NM' 'PR' 'CO' 'AZ' 'RI'\n",
            " 'MO' 'NJ' 'MA' 'TN' 'LA' 'NH' 'WI' 'IA' 'GA' 'VA' 'DC' 'KY' 'SC' 'MN'\n",
            " 'WV' 'DE' 'MI' 'IL' 'MS' 'WA' 'KS' 'CT' 'OR' 'UT' 'MD' 'OK' 'NE' 'NV'\n",
            " 'AL' 'AK' 'AR' 'HI' 'ME' 'ND' 'ID' 'WY' 'MT' 'SD' 'VT']\n"
          ]
        }
      ]
    },
    {
      "cell_type": "markdown",
      "source": [
        "###Transactions Cleaning"
      ],
      "metadata": {
        "id": "9dnf_mBFQiUu"
      }
    },
    {
      "cell_type": "code",
      "source": [
        "transactions = transactions_df.copy()\n",
        "\n",
        "print(transactions.head(10).to_markdown(index=False))\n",
        "print(\"\\n\")\n",
        "display_dataframe_info(transactions, \"transactions_df\")"
      ],
      "metadata": {
        "colab": {
          "base_uri": "https://localhost:8080/"
        },
        "id": "h28yR7bUQpCT",
        "outputId": "c50986d5-8553-4c36-f221-34aa00e06933"
      },
      "execution_count": 8,
      "outputs": [
        {
          "output_type": "stream",
          "name": "stdout",
          "text": [
            "| RECEIPT_ID                           | PURCHASE_DATE   | SCAN_DATE                 | STORE_NAME   | USER_ID                  |       BARCODE | FINAL_QUANTITY   | FINAL_SALE   |\n",
            "|:-------------------------------------|:----------------|:--------------------------|:-------------|:-------------------------|--------------:|:-----------------|:-------------|\n",
            "| 0000d256-4041-4a3e-adc4-5623fb6e0c99 | 2024-08-21      | 2024-08-21 14:19:06.539 Z | WALMART      | 63b73a7f3d310dceeabd4758 |   1.53e+10    | 1.00             |              |\n",
            "| 0001455d-7a92-4a7b-a1d2-c747af1c8fd3 | 2024-07-20      | 2024-07-20 09:50:24.206 Z | ALDI         | 62c08877baa38d1a1f6c211a | nan           | zero             | 1.49         |\n",
            "| 00017e0a-7851-42fb-bfab-0baa96e23586 | 2024-08-18      | 2024-08-19 15:38:56.813 Z | WALMART      | 60842f207ac8b7729e472020 |   7.87422e+10 | 1.00             |              |\n",
            "| 000239aa-3478-453d-801e-66a82e39c8af | 2024-06-18      | 2024-06-19 11:03:37.468 Z | FOOD LION    | 63fcd7cea4f8442c3386b589 |   7.834e+11   | zero             | 3.49         |\n",
            "| 00026b4c-dfe8-49dd-b026-4c2f0fd5c6a1 | 2024-07-04      | 2024-07-05 15:56:43.549 Z | RANDALLS     | 6193231ae9b3d75037b0f928 |   4.79005e+10 | 1.00             |              |\n",
            "| 0002d8cd-1701-4cdd-a524-b70402e2dbc0 | 2024-06-24      | 2024-06-24 19:44:54.247 Z | WALMART      | 5dcc6c510040a012b8e76924 |   6.81131e+11 | zero             | 1.46         |\n",
            "| 000550b2-1480-4c07-950f-ff601f242152 | 2024-07-06      | 2024-07-06 19:27:48.586 Z | WALMART      | 5f850bc9cf9431165f3ac175 |   4.92009e+10 | 1.00             |              |\n",
            "| 00096c49-8b04-42f9-88ce-941c5e06c4a7 | 2024-08-19      | 2024-08-21 17:35:21.902 Z | TARGET       | 6144f4f1f3ef696919f54b5c |   7.83001e+10 | zero             | 3.59         |\n",
            "| 000e1d35-15e5-46c6-b6b3-33653ed3d27e | 2024-08-13      | 2024-08-13 18:21:07.931 Z | WALMART      | 61a6d926f998e47aad33db66 |   5.2e+10     | 1.00             |              |\n",
            "| 0010d87d-1ad2-4e5e-9a25-cec736919d15 | 2024-08-04      | 2024-08-04 18:01:47.787 Z | ALDI         | 66686fc2e04f743a096ea808 | nan           | zero             | 2.29         |\n",
            "\n",
            "\n",
            "### transactions_df ###\n",
            "| Column Name    | Data Type   |   Non-Null Count |   Unique Records |   Duplicated Records |   Missing Values |\n",
            "|:---------------|:------------|-----------------:|-----------------:|---------------------:|-----------------:|\n",
            "| RECEIPT_ID     | object      |            50000 |            24440 |                  171 |                0 |\n",
            "| PURCHASE_DATE  | object      |            50000 |               89 |                  171 |                0 |\n",
            "| SCAN_DATE      | object      |            50000 |            24440 |                  171 |                0 |\n",
            "| STORE_NAME     | object      |            50000 |              954 |                  171 |                0 |\n",
            "| USER_ID        | object      |            50000 |            17694 |                  171 |                0 |\n",
            "| BARCODE        | object      |            44238 |            11028 |                  171 |             5762 |\n",
            "| FINAL_QUANTITY | object      |            50000 |               87 |                  171 |                0 |\n",
            "| FINAL_SALE     | object      |            50000 |             1435 |                  171 |                0 |\n",
            "\n",
            "\n"
          ]
        }
      ]
    },
    {
      "cell_type": "code",
      "source": [
        "# Convert FINAL_QUANTITY to numeric, handling non-numeric values like \"zero\"\n",
        "transactions['FINAL_QUANTITY'] = transactions['FINAL_QUANTITY'].replace({'zero': 0}).astype(float)\n",
        "\n",
        "# Convert FINAL_SALE to numeric, filling missing values with 0.00\n",
        "transactions['FINAL_SALE'] = pd.to_numeric(transactions['FINAL_SALE'], errors='coerce').fillna(0.00)\n",
        "\n",
        "# Remove duplicates based on RECEIPT_ID, USER_ID, and BARCODE\n",
        "transactions_cleaned = transactions.drop_duplicates(subset=['RECEIPT_ID', 'USER_ID', 'BARCODE'], keep='first')\n",
        "\n",
        "print('transactions after deduplication:', len(transactions_cleaned))\n",
        "\n",
        "transactions_cleaned = transactions_cleaned.copy()\n",
        "\n",
        "# Now apply the flag safely\n",
        "transactions_cleaned['FLAG_ZERO_QUANTITY'] = transactions_cleaned['FINAL_QUANTITY'] == 0\n",
        "\n",
        "print(transactions_cleaned.head(10).to_markdown(index=False))\n"
      ],
      "metadata": {
        "colab": {
          "base_uri": "https://localhost:8080/"
        },
        "id": "w_hHZ0UeScDg",
        "outputId": "d6119685-bce1-464c-969b-9bc8be103663"
      },
      "execution_count": 9,
      "outputs": [
        {
          "output_type": "stream",
          "name": "stdout",
          "text": [
            "transactions after deduplication: 24795\n",
            "| RECEIPT_ID                           | PURCHASE_DATE   | SCAN_DATE                 | STORE_NAME   | USER_ID                  |       BARCODE |   FINAL_QUANTITY |   FINAL_SALE | FLAG_ZERO_QUANTITY   |\n",
            "|:-------------------------------------|:----------------|:--------------------------|:-------------|:-------------------------|--------------:|-----------------:|-------------:|:---------------------|\n",
            "| 0000d256-4041-4a3e-adc4-5623fb6e0c99 | 2024-08-21      | 2024-08-21 14:19:06.539 Z | WALMART      | 63b73a7f3d310dceeabd4758 |   1.53e+10    |                1 |         0    | False                |\n",
            "| 0001455d-7a92-4a7b-a1d2-c747af1c8fd3 | 2024-07-20      | 2024-07-20 09:50:24.206 Z | ALDI         | 62c08877baa38d1a1f6c211a | nan           |                0 |         1.49 | True                 |\n",
            "| 00017e0a-7851-42fb-bfab-0baa96e23586 | 2024-08-18      | 2024-08-19 15:38:56.813 Z | WALMART      | 60842f207ac8b7729e472020 |   7.87422e+10 |                1 |         0    | False                |\n",
            "| 000239aa-3478-453d-801e-66a82e39c8af | 2024-06-18      | 2024-06-19 11:03:37.468 Z | FOOD LION    | 63fcd7cea4f8442c3386b589 |   7.834e+11   |                0 |         3.49 | True                 |\n",
            "| 00026b4c-dfe8-49dd-b026-4c2f0fd5c6a1 | 2024-07-04      | 2024-07-05 15:56:43.549 Z | RANDALLS     | 6193231ae9b3d75037b0f928 |   4.79005e+10 |                1 |         0    | False                |\n",
            "| 0002d8cd-1701-4cdd-a524-b70402e2dbc0 | 2024-06-24      | 2024-06-24 19:44:54.247 Z | WALMART      | 5dcc6c510040a012b8e76924 |   6.81131e+11 |                0 |         1.46 | True                 |\n",
            "| 000550b2-1480-4c07-950f-ff601f242152 | 2024-07-06      | 2024-07-06 19:27:48.586 Z | WALMART      | 5f850bc9cf9431165f3ac175 |   4.92009e+10 |                1 |         0    | False                |\n",
            "| 00096c49-8b04-42f9-88ce-941c5e06c4a7 | 2024-08-19      | 2024-08-21 17:35:21.902 Z | TARGET       | 6144f4f1f3ef696919f54b5c |   7.83001e+10 |                0 |         3.59 | True                 |\n",
            "| 000e1d35-15e5-46c6-b6b3-33653ed3d27e | 2024-08-13      | 2024-08-13 18:21:07.931 Z | WALMART      | 61a6d926f998e47aad33db66 |   5.2e+10     |                1 |         0    | False                |\n",
            "| 0010d87d-1ad2-4e5e-9a25-cec736919d15 | 2024-08-04      | 2024-08-04 18:01:47.787 Z | ALDI         | 66686fc2e04f743a096ea808 | nan           |                0 |         2.29 | True                 |\n"
          ]
        }
      ]
    },
    {
      "cell_type": "code",
      "source": [
        "display_dataframe_info(transactions_cleaned, \"transactions_df\")"
      ],
      "metadata": {
        "colab": {
          "base_uri": "https://localhost:8080/"
        },
        "id": "UQT3dnhVZRcx",
        "outputId": "41a1ba6c-5b3e-40b7-8223-2ad884247e46"
      },
      "execution_count": 10,
      "outputs": [
        {
          "output_type": "stream",
          "name": "stdout",
          "text": [
            "### transactions_df ###\n",
            "| Column Name        | Data Type   |   Non-Null Count |   Unique Records |   Duplicated Records |   Missing Values |\n",
            "|:-------------------|:------------|-----------------:|-----------------:|---------------------:|-----------------:|\n",
            "| RECEIPT_ID         | object      |            24795 |            24440 |                    0 |                0 |\n",
            "| PURCHASE_DATE      | object      |            24795 |               89 |                    0 |                0 |\n",
            "| SCAN_DATE          | object      |            24795 |            24440 |                    0 |                0 |\n",
            "| STORE_NAME         | object      |            24795 |              954 |                    0 |                0 |\n",
            "| USER_ID            | object      |            24795 |            17694 |                    0 |                0 |\n",
            "| BARCODE            | object      |            21979 |            11028 |                    0 |             2816 |\n",
            "| FINAL_QUANTITY     | float64     |            24795 |               42 |                    0 |                0 |\n",
            "| FINAL_SALE         | float64     |            24795 |             1136 |                    0 |                0 |\n",
            "| FLAG_ZERO_QUANTITY | bool        |            24795 |                2 |                    0 |                0 |\n",
            "\n",
            "\n"
          ]
        }
      ]
    },
    {
      "cell_type": "code",
      "source": [
        "transactions_cleaned['BARCODE'] = pd.to_numeric(transactions_cleaned['BARCODE'], errors='coerce')\n",
        "\n",
        "# Now check for missing values\n",
        "print(transactions_cleaned['BARCODE'].isnull().sum(), \"transactions have missing barcodes.\")\n",
        "\n",
        "# Total number of transactions\n",
        "total_transactions = len(transactions_cleaned)\n",
        "\n",
        "# Count of missing barcode transactions\n",
        "missing_barcodes = transactions_cleaned['BARCODE'].isnull().sum()\n",
        "\n",
        "# Calculate percentage\n",
        "missing_percentage = (missing_barcodes / total_transactions) * 100\n",
        "\n",
        "# Print result\n",
        "print(f\"Missing Barcode Percentage: {missing_percentage:.2f}%\")\n"
      ],
      "metadata": {
        "colab": {
          "base_uri": "https://localhost:8080/"
        },
        "id": "nBfpYHWaXhXL",
        "outputId": "d3f503ae-c61c-4bde-f617-d7ba3b562099"
      },
      "execution_count": 11,
      "outputs": [
        {
          "output_type": "stream",
          "name": "stdout",
          "text": [
            "2816 transactions have missing barcodes.\n",
            "Missing Barcode Percentage: 11.36%\n"
          ]
        }
      ]
    },
    {
      "cell_type": "code",
      "source": [
        "total_transactions_by_store = transactions_cleaned['STORE_NAME'].value_counts()\n",
        "\n",
        "# Missing barcode transactions per store\n",
        "missing_barcode_by_store = transactions_cleaned[transactions_cleaned['BARCODE'].isnull()]['STORE_NAME'].value_counts()\n",
        "\n",
        "# Calculate the percentage of missing barcodes per store\n",
        "missing_percentage_by_store = (missing_barcode_by_store / total_transactions_by_store) * 100\n",
        "\n",
        "# Combine results into a DataFrame\n",
        "missing_barcode_summary = pd.DataFrame({\n",
        "    'Total_Transactions': total_transactions_by_store,\n",
        "    'Missing_Barcodes': missing_barcode_by_store,\n",
        "    'Missing_Percentage': missing_percentage_by_store\n",
        "}).fillna(0)  # Fill NaN for stores with 0 missing barcodes\n",
        "\n",
        "# Sort by highest missing percentage\n",
        "missing_barcode_summary = missing_barcode_summary.sort_values(by='Missing_Percentage', ascending=False)\n",
        "\n",
        "# Print the results in markdown format for better readability\n",
        "print(missing_barcode_summary.head(50).to_markdown())\n",
        "\n"
      ],
      "metadata": {
        "colab": {
          "base_uri": "https://localhost:8080/"
        },
        "id": "s_iLvNa0YfH5",
        "outputId": "0d9d58e4-067f-47d4-8082-410d70ad4148"
      },
      "execution_count": 27,
      "outputs": [
        {
          "output_type": "stream",
          "name": "stdout",
          "text": [
            "| STORE_NAME                            |   Total_Transactions |   Missing_Barcodes |   Missing_Percentage |\n",
            "|:--------------------------------------|---------------------:|-------------------:|---------------------:|\n",
            "| THE TRUE LOW PRICE LEADER             |                    1 |                  1 |                  100 |\n",
            "| CHAR&LEMON                            |                    1 |                  1 |                  100 |\n",
            "| KUHN'S MARKET                         |                    1 |                  1 |                  100 |\n",
            "| THE HALF WALL BEER HOUSE              |                    1 |                  1 |                  100 |\n",
            "| CARNICERIA LOS DOS RIOS               |                    1 |                  1 |                  100 |\n",
            "| CASH WISE                             |                    1 |                  1 |                  100 |\n",
            "| KINNEY DRUGS                          |                    1 |                  1 |                  100 |\n",
            "| TEAL'S MARKET                         |                    1 |                  1 |                  100 |\n",
            "| H. YANIRIS                            |                    1 |                  1 |                  100 |\n",
            "| CHEF CHEN ASIAN CUISINE               |                    1 |                  1 |                  100 |\n",
            "| S AVEIAL                              |                    1 |                  1 |                  100 |\n",
            "| OZZIE'S FRESH MARKET BY FOOD UNIVERSE |                    1 |                  1 |                  100 |\n",
            "| P PHARMACU                            |                    1 |                  1 |                  100 |\n",
            "| FATRVTEW PHARMACY                     |                    1 |                  1 |                  100 |\n",
            "| SUPERMERCADOS MR. SPECIAL             |                    1 |                  1 |                  100 |\n",
            "| CLULS SAM'S                           |                    1 |                  1 |                  100 |\n",
            "| COBORN'S                              |                    1 |                  1 |                  100 |\n",
            "| COLUMBIA ORTHOPA                      |                    1 |                  1 |                  100 |\n",
            "| OLD NAVY                              |                    1 |                  1 |                  100 |\n",
            "| THERRESDEROCER                        |                    1 |                  1 |                  100 |\n",
            "| C TCO LESALE WHO                      |                    1 |                  1 |                  100 |\n",
            "| QUIKSTOP                              |                    1 |                  1 |                  100 |\n",
            "| NELES GRANACOT                        |                    1 |                  1 |                  100 |\n",
            "| BETHPAGE PHARMACY                     |                    1 |                  1 |                  100 |\n",
            "| TOWN & COUNTRY                        |                    1 |                  1 |                  100 |\n",
            "| TOP TOMATO                            |                    1 |                  1 |                  100 |\n",
            "| BLUE SUNERESH                         |                    1 |                  1 |                  100 |\n",
            "| BNDGE STREET PHARMACY IC              |                    1 |                  1 |                  100 |\n",
            "| NOGALES LLC MARKET                    |                    1 |                  1 |                  100 |\n",
            "| LAURA'S PHARMACY                      |                    1 |                  1 |                  100 |\n",
            "| BRAUM'S ICE CREAM AND DAIRY STORES    |                    2 |                  2 |                  100 |\n",
            "| TJ MAXX                               |                   16 |                 16 |                  100 |\n",
            "| FOOD COUNTRY USA                      |                    1 |                  1 |                  100 |\n",
            "| GREAT WALL SUPERMARKET                |                    1 |                  1 |                  100 |\n",
            "| BURKES OUTLET                         |                    1 |                  1 |                  100 |\n",
            "| NUTS FACTORY 74TH                     |                    1 |                  1 |                  100 |\n",
            "| BUTCHER'S BREWHUIS                    |                    1 |                  1 |                  100 |\n",
            "| FRESHCO                               |                    1 |                  1 |                  100 |\n",
            "| PRESTON FOODS                         |                    1 |                  1 |                  100 |\n",
            "| CONTINENTAL MIDTOWN                   |                    1 |                  1 |                  100 |\n",
            "| STOM LAMIARDS                         |                    1 |                  1 |                  100 |\n",
            "| PHARMACY                              |                    5 |                  5 |                  100 |\n",
            "| STEW LEONARD'S                        |                    1 |                  1 |                  100 |\n",
            "| DOORDASH DELIV                        |                    1 |                  1 |                  100 |\n",
            "| DREAM MARKET                          |                    1 |                  1 |                  100 |\n",
            "| PONTE FRESCO                          |                    1 |                  1 |                  100 |\n",
            "| HELEN'S OF ELLSWORTH                  |                    1 |                  1 |                  100 |\n",
            "| SHERM'S THUNDERBIRD MARKET            |                    1 |                  1 |                  100 |\n",
            "| HOSPITAL DRIVE PHARMACY               |                    1 |                  1 |                  100 |\n",
            "| HORNING'S MARKET OF BETHEL            |                    3 |                  3 |                  100 |\n"
          ]
        }
      ]
    },
    {
      "cell_type": "markdown",
      "source": [
        "###PRODUCTS CLEANING"
      ],
      "metadata": {
        "id": "cb1f97DKVOQA"
      }
    },
    {
      "cell_type": "code",
      "source": [
        "products = products_df.copy()\n",
        "print(products.head(10).to_markdown(index=False))\n",
        "print(\"\\n\")"
      ],
      "metadata": {
        "colab": {
          "base_uri": "https://localhost:8080/"
        },
        "id": "eQPvkD00VXMs",
        "outputId": "9356ec6d-c13f-463c-a5c5-27ebd32097e8"
      },
      "execution_count": 13,
      "outputs": [
        {
          "output_type": "stream",
          "name": "stdout",
          "text": [
            "| CATEGORY_1        | CATEGORY_2                 | CATEGORY_3                       |   CATEGORY_4 | MANUFACTURER                                           | BRAND           |       BARCODE |\n",
            "|:------------------|:---------------------------|:---------------------------------|-------------:|:-------------------------------------------------------|:----------------|--------------:|\n",
            "| Health & Wellness | Sexual Health              | Conductivity Gels & Lotions      |          nan | nan                                                    | nan             |   7.96494e+11 |\n",
            "| Snacks            | Puffed Snacks              | Cheese Curls & Puffs             |          nan | nan                                                    | nan             |   2.3278e+10  |\n",
            "| Health & Wellness | Hair Care                  | Hair Care Accessories            |          nan | PLACEHOLDER MANUFACTURER                               | ELECSOP         |   4.61818e+11 |\n",
            "| Health & Wellness | Oral Care                  | Toothpaste                       |          nan | COLGATE-PALMOLIVE                                      | COLGATE         |   3.50005e+10 |\n",
            "| Health & Wellness | Medicines & Treatments     | Essential Oils                   |          nan | MAPLE HOLISTICS AND HONEYDEW PRODUCTS INTERCHANGEABLY. | MAPLE HOLISTICS |   8.06811e+11 |\n",
            "| Health & Wellness | Hair Care                  | Hair Care Accessories            |          nan | PLACEHOLDER MANUFACTURER                               | BEAUHAIR        |   6.62659e+11 |\n",
            "| Health & Wellness | Medicines & Treatments     | Vitamins & Herbal Supplements    |          nan | HALEON                                                 | EMERGEN-C       |   6.17738e+11 |\n",
            "| Health & Wellness | Deodorant & Antiperspirant | Men's Deodorant & Antiperspirant |          nan | nan                                                    | nan             |   7.50184e+12 |\n",
            "| Snacks            | Snack Bars                 | Granola Bars                     |          nan | HYVEE INC                                              | HY-VEE          |   7.54501e+10 |\n",
            "| Health & Wellness | nan                        | nan                              |          nan | CHURCH & DWIGHT                                        | REPHRESH        | nan           |\n",
            "\n",
            "\n"
          ]
        }
      ]
    },
    {
      "cell_type": "code",
      "source": [
        "# ----------------------\n",
        "#PRODUCTS CLEANING\n",
        "# ----------------------\n",
        "\n",
        "# Drop CATEGORY_4 if sparsity is too high (>90% missing)\n",
        "if products['CATEGORY_4'].isnull().mean() > 0.9:\n",
        "    products.drop(columns=['CATEGORY_4'], inplace=True)\n",
        "\n",
        "# Handle MANUFACTURER & BRAND missing values (fill with 'Unknown' if missing)\n",
        "products['MANUFACTURER'].fillna('Unknown', inplace=True)\n",
        "products['BRAND'].fillna('Unknown', inplace=True)\n",
        "\n",
        "# Investigate missing BARCODEs\n",
        "products['MISSING_BARCODE_FLAG'] = products['BARCODE'].isnull()\n",
        "\n",
        "# Remove duplicate products\n",
        "products = products.drop_duplicates()\n"
      ],
      "metadata": {
        "colab": {
          "base_uri": "https://localhost:8080/"
        },
        "id": "slTLG9YX_sC-",
        "outputId": "f1056013-4d04-4610-9452-02fdf9d0d16f"
      },
      "execution_count": 14,
      "outputs": [
        {
          "output_type": "stream",
          "name": "stderr",
          "text": [
            "<ipython-input-14-08a28c91e936>:10: FutureWarning: A value is trying to be set on a copy of a DataFrame or Series through chained assignment using an inplace method.\n",
            "The behavior will change in pandas 3.0. This inplace method will never work because the intermediate object on which we are setting values always behaves as a copy.\n",
            "\n",
            "For example, when doing 'df[col].method(value, inplace=True)', try using 'df.method({col: value}, inplace=True)' or df[col] = df[col].method(value) instead, to perform the operation inplace on the original object.\n",
            "\n",
            "\n",
            "  products['MANUFACTURER'].fillna('Unknown', inplace=True)\n",
            "<ipython-input-14-08a28c91e936>:11: FutureWarning: A value is trying to be set on a copy of a DataFrame or Series through chained assignment using an inplace method.\n",
            "The behavior will change in pandas 3.0. This inplace method will never work because the intermediate object on which we are setting values always behaves as a copy.\n",
            "\n",
            "For example, when doing 'df[col].method(value, inplace=True)', try using 'df.method({col: value}, inplace=True)' or df[col] = df[col].method(value) instead, to perform the operation inplace on the original object.\n",
            "\n",
            "\n",
            "  products['BRAND'].fillna('Unknown', inplace=True)\n"
          ]
        }
      ]
    },
    {
      "cell_type": "code",
      "source": [
        "display_dataframe_info(users, \"users\")\n",
        "display_dataframe_info(transactions_cleaned, \"transactions\")\n",
        "display_dataframe_info(products, \"products\")"
      ],
      "metadata": {
        "colab": {
          "base_uri": "https://localhost:8080/"
        },
        "id": "edKw6JuLe6UL",
        "outputId": "3287eded-3f34-4f69-89bb-08595d64eaa8"
      },
      "execution_count": 15,
      "outputs": [
        {
          "output_type": "stream",
          "name": "stdout",
          "text": [
            "### users ###\n",
            "| Column Name   | Data Type           |   Non-Null Count |   Unique Records |   Duplicated Records |   Missing Values |\n",
            "|:--------------|:--------------------|-----------------:|-----------------:|---------------------:|-----------------:|\n",
            "| ID            | object              |           100000 |           100000 |                    0 |                0 |\n",
            "| CREATED_DATE  | object              |           100000 |            99942 |                    0 |                0 |\n",
            "| BIRTH_DATE    | datetime64[ns, UTC] |            96325 |            54721 |                    0 |             3675 |\n",
            "| STATE         | object              |           100000 |               53 |                    0 |                0 |\n",
            "| LANGUAGE      | object              |           100000 |                3 |                    0 |                0 |\n",
            "| GENDER        | object              |           100000 |                7 |                    0 |                0 |\n",
            "\n",
            "\n",
            "### transactions ###\n",
            "| Column Name        | Data Type   |   Non-Null Count |   Unique Records |   Duplicated Records |   Missing Values |\n",
            "|:-------------------|:------------|-----------------:|-----------------:|---------------------:|-----------------:|\n",
            "| RECEIPT_ID         | object      |            24795 |            24440 |                    0 |                0 |\n",
            "| PURCHASE_DATE      | object      |            24795 |               89 |                    0 |                0 |\n",
            "| SCAN_DATE          | object      |            24795 |            24440 |                    0 |                0 |\n",
            "| STORE_NAME         | object      |            24795 |              954 |                    0 |                0 |\n",
            "| USER_ID            | object      |            24795 |            17694 |                    0 |                0 |\n",
            "| BARCODE            | float64     |            21979 |            11027 |                    0 |             2816 |\n",
            "| FINAL_QUANTITY     | float64     |            24795 |               42 |                    0 |                0 |\n",
            "| FINAL_SALE         | float64     |            24795 |             1136 |                    0 |                0 |\n",
            "| FLAG_ZERO_QUANTITY | bool        |            24795 |                2 |                    0 |                0 |\n",
            "\n",
            "\n",
            "### products ###\n",
            "| Column Name          | Data Type   |   Non-Null Count |   Unique Records |   Duplicated Records |   Missing Values |\n",
            "|:---------------------|:------------|-----------------:|-----------------:|---------------------:|-----------------:|\n",
            "| CATEGORY_1           | object      |           845175 |               27 |                    0 |              111 |\n",
            "| CATEGORY_2           | object      |           843864 |              121 |                    0 |             1422 |\n",
            "| CATEGORY_3           | object      |           784723 |              344 |                    0 |            60563 |\n",
            "| MANUFACTURER         | object      |           845286 |             4355 |                    0 |                0 |\n",
            "| BRAND                | object      |           845286 |             8123 |                    0 |                0 |\n",
            "| BARCODE              | object      |           841527 |           841525 |                    0 |             3759 |\n",
            "| MISSING_BARCODE_FLAG | bool        |           845286 |                2 |                    0 |                0 |\n",
            "\n",
            "\n"
          ]
        }
      ]
    },
    {
      "cell_type": "code",
      "source": [
        "# Load DataFrames into SQL tables\n",
        "users.to_sql('users', conn, index=False, if_exists='replace')\n",
        "transactions_cleaned.to_sql('transactions', conn, index=False, if_exists='replace')\n",
        "products.to_sql('products', conn, index=False, if_exists='replace')"
      ],
      "metadata": {
        "colab": {
          "base_uri": "https://localhost:8080/"
        },
        "id": "ttLCevK0cmF9",
        "outputId": "5588efca-c23e-4cbb-9043-1b73fab6910f"
      },
      "execution_count": 16,
      "outputs": [
        {
          "output_type": "execute_result",
          "data": {
            "text/plain": [
              "845286"
            ]
          },
          "metadata": {},
          "execution_count": 16
        }
      ]
    },
    {
      "cell_type": "markdown",
      "source": [
        "Second: provide SQL queries\n",
        "Answer three of the following questions with at least one question coming from the closed-ended and one from the open-ended question set. Each question should be answered using one query.\n",
        "* Closed-ended questions:\n",
        "1. What are the top 5 brands by receipts scanned among users 21 and over?\n",
        "2. What are the top 5 brands by sales among users that have had their account for at least six months?\n",
        "3. What is the percentage of sales in the Health & Wellness category by generation?\n",
        "* Open-ended questions: for these, make assumptions and clearly state them when answering the question.\n",
        "4. Who are Fetch’s power users?\n",
        "5. Which is the leading brand in the Dips & Salsa category?\n",
        "6. At what percent has Fetch grown year over year?"
      ],
      "metadata": {
        "id": "oTbIu3YWdCg8"
      }
    },
    {
      "cell_type": "markdown",
      "source": [
        "###1. What are the top 5 brands by receipts scanned among users 21 and over?"
      ],
      "metadata": {
        "id": "_5jPAJ6OeZBA"
      }
    },
    {
      "cell_type": "code",
      "source": [
        "query = \"\"\"\n",
        "SELECT p.BRAND, COUNT(t.RECEIPT_ID) AS receipts_scanned\n",
        "FROM transactions t\n",
        "JOIN users u ON t.USER_ID = u.ID\n",
        "JOIN products p ON t.BARCODE = p.BARCODE\n",
        "WHERE (strftime('%Y', 'now') - strftime('%Y', u.BIRTH_DATE)) >= 21\n",
        "AND p.BRAND != 'Unknown'  -- Exclude unknown brands\n",
        "GROUP BY p.BRAND\n",
        "ORDER BY receipts_scanned DESC\n",
        "LIMIT 5;\n",
        "\"\"\"\n",
        "# Execute query and fetch results\n",
        "top_brands = pd.read_sql_query(query, conn)\n",
        "print(top_brands)"
      ],
      "metadata": {
        "colab": {
          "base_uri": "https://localhost:8080/"
        },
        "id": "aqiP8PtudDQI",
        "outputId": "60d411a0-4a9e-4edc-fb23-c6078254aeb2"
      },
      "execution_count": 17,
      "outputs": [
        {
          "output_type": "stream",
          "name": "stdout",
          "text": [
            "             BRAND  receipts_scanned\n",
            "0      NERDS CANDY                 3\n",
            "1             DOVE                 3\n",
            "2          TRIDENT                 2\n",
            "3  SOUR PATCH KIDS                 2\n",
            "4           MEIJER                 2\n"
          ]
        }
      ]
    },
    {
      "cell_type": "markdown",
      "source": [
        "###2. What are the top 5 brands by sales among users that have had their account for at least six months?"
      ],
      "metadata": {
        "id": "cEqUrRt8elIe"
      }
    },
    {
      "cell_type": "code",
      "source": [
        "query = \"\"\"\n",
        "SELECT p.BRAND, SUM(t.FINAL_SALE) AS total_sales\n",
        "FROM transactions t\n",
        "JOIN users u ON t.USER_ID = u.ID\n",
        "JOIN products p ON t.BARCODE = p.BARCODE\n",
        "WHERE julianday('now') - julianday(u.CREATED_DATE) >= 180\n",
        "GROUP BY p.BRAND\n",
        "ORDER BY total_sales DESC\n",
        "LIMIT 5;\n",
        "\"\"\"\n",
        "\n",
        "# Execute and fetch results\n",
        "top_sales_brands = pd.read_sql_query(query, conn)\n",
        "print(top_sales_brands)\n"
      ],
      "metadata": {
        "colab": {
          "base_uri": "https://localhost:8080/"
        },
        "id": "y9bvZXs0enDV",
        "outputId": "e67408fe-14bb-4e64-a696-a785ff886a81"
      },
      "execution_count": 18,
      "outputs": [
        {
          "output_type": "stream",
          "name": "stdout",
          "text": [
            "         BRAND  total_sales\n",
            "0      TRIDENT           23\n",
            "1  COORS LIGHT           17\n",
            "2         DOVE           12\n",
            "3       QUAKER            8\n",
            "4          AXE            8\n"
          ]
        }
      ]
    },
    {
      "cell_type": "markdown",
      "source": [
        "###3. What is the percentage of sales in the Health & Wellness category by generation?"
      ],
      "metadata": {
        "id": "x-c9rdh7fbTq"
      }
    },
    {
      "cell_type": "code",
      "source": [
        "# SQL Query to Calculate Health & Wellness Sales Percentage\n",
        "query = \"\"\"\n",
        "WITH category_sales AS (\n",
        "    SELECT\n",
        "        SUM(t.FINAL_SALE) AS health_wellness_sales\n",
        "    FROM transactions t\n",
        "    JOIN products p ON t.BARCODE = p.BARCODE\n",
        "    WHERE p.CATEGORY_1 = 'Health & Wellness'\n",
        "),\n",
        "total_sales AS (\n",
        "    SELECT\n",
        "        SUM(FINAL_SALE) AS overall_sales\n",
        "    FROM transactions\n",
        ")\n",
        "SELECT\n",
        "    cs.health_wellness_sales,\n",
        "    ts.overall_sales,\n",
        "    ROUND((cs.health_wellness_sales * 100.0) / ts.overall_sales, 2) AS health_wellness_percentage\n",
        "FROM category_sales cs, total_sales ts;\n",
        "\"\"\"\n",
        "\n",
        "# Execute query and fetch results into a DataFrame\n",
        "health_wellness_sales_percentage = pd.read_sql_query(query, conn)\n",
        "\n",
        "# Display the results\n",
        "print(health_wellness_sales_percentage)"
      ],
      "metadata": {
        "colab": {
          "base_uri": "https://localhost:8080/"
        },
        "id": "m5tNnC_wffxR",
        "outputId": "97a44d2d-b227-4af6-b800-15663959d1f1"
      },
      "execution_count": 19,
      "outputs": [
        {
          "output_type": "stream",
          "name": "stdout",
          "text": [
            "   health_wellness_sales  overall_sales  health_wellness_percentage\n",
            "0                  13871          57083                          24\n"
          ]
        }
      ]
    },
    {
      "cell_type": "markdown",
      "source": [
        "4. Who are Fetch’s power users?\n",
        "\n",
        "* Rewards are earned per receipt → Users scanning more receipts get higher priority.\n",
        "* Frequent & bulk shoppers show engagement → Buying more items means active participation.\n",
        "* High spenders are valuable for brand deals → Fetch can target brand partnerships for top spenders."
      ],
      "metadata": {
        "id": "0njTsDxtkChK"
      }
    },
    {
      "cell_type": "code",
      "source": [
        "query = \"\"\"\n",
        "WITH user_receipts AS (\n",
        "    SELECT USER_ID, COUNT(RECEIPT_ID) AS total_receipts\n",
        "    FROM transactions\n",
        "    GROUP BY USER_ID\n",
        "),\n",
        "user_items AS (\n",
        "    SELECT USER_ID, SUM(FINAL_QUANTITY) AS total_items_purchased\n",
        "    FROM transactions\n",
        "    GROUP BY USER_ID\n",
        "),\n",
        "user_spending AS (\n",
        "    SELECT USER_ID, SUM(FINAL_SALE) AS total_spent\n",
        "    FROM transactions\n",
        "    GROUP BY USER_ID\n",
        ")\n",
        "SELECT u.ID AS user_id, u.CREATED_DATE,\n",
        "       ur.total_receipts, ui.total_items_purchased, us.total_spent,\n",
        "       ROUND(ui.total_items_purchased * 1.0 / ur.total_receipts, 2) AS avg_items_per_receipt\n",
        "FROM users u\n",
        "JOIN user_receipts ur ON u.ID = ur.USER_ID\n",
        "JOIN user_items ui ON u.ID = ui.USER_ID\n",
        "JOIN user_spending us ON u.ID = us.USER_ID\n",
        "ORDER BY ur.total_receipts DESC, ui.total_items_purchased DESC, us.total_spent DESC\n",
        "LIMIT 10;\n",
        "\"\"\"\n",
        "\n",
        "power_users_fetch = pd.read_sql_query(query, conn)\n",
        "print(power_users_fetch)\n"
      ],
      "metadata": {
        "colab": {
          "base_uri": "https://localhost:8080/"
        },
        "id": "JhN6OgXPhLXc",
        "outputId": "ffff9e03-6faf-449e-8a7c-01bb4726af94"
      },
      "execution_count": 20,
      "outputs": [
        {
          "output_type": "stream",
          "name": "stdout",
          "text": [
            "                    user_id               CREATED_DATE  total_receipts  \\\n",
            "0  61a58ac49c135b462ccddd1c  2021-11-30 02:21:56.000 Z               3   \n",
            "1  5f64fff6dc25c93de0383513  2020-09-18 18:44:07.000 Z               3   \n",
            "2  646bdaa67a342372c857b958  2023-05-22 21:12:06.000 Z               3   \n",
            "3  62c09104baa38d1a1f6c260e  2022-07-02 18:40:04.000 Z               3   \n",
            "4  610a8541ca1fab5b417b5d33  2021-08-04 12:17:05.000 Z               3   \n",
            "5  5c366bf06d9819129dfa1118  2019-01-09 21:47:28.000 Z               3   \n",
            "6  62ffec490d9dbaff18c0a999  2022-08-19 20:02:17.000 Z               3   \n",
            "7  6528a0a388a3a884364d94dc  2023-10-13 01:42:59.000 Z               3   \n",
            "8  5ca54049adfcb4140b54e1bf  2019-04-03 23:22:49.000 Z               2   \n",
            "9  5f222804d52f48146ba7112e  2020-07-30 01:53:09.000 Z               2   \n",
            "\n",
            "   total_items_purchased  total_spent  avg_items_per_receipt  \n",
            "0                      2            5                      1  \n",
            "1                      2            3                      1  \n",
            "2                      2            2                      1  \n",
            "3                      1            9                      0  \n",
            "4                      1            7                      0  \n",
            "5                      1            5                      0  \n",
            "6                      0           26                      0  \n",
            "7                      0            6                      0  \n",
            "8                      2            0                      1  \n",
            "9                      2            0                      1  \n"
          ]
        }
      ]
    },
    {
      "cell_type": "markdown",
      "source": [
        "5. Which is the leading brand in the Dips & Salsa category?\n",
        "* All variations should be included if they contain \"Dips\" or \"Salsa\".\n",
        "* The leading brand is determined by total sales (SUM(FINAL_SALE)).\n",
        "* If there is a tie, we use transaction count (COUNT(RECEIPT_ID)) as a tiebreaker."
      ],
      "metadata": {
        "id": "UMf1TdCQrGqx"
      }
    },
    {
      "cell_type": "code",
      "source": [
        "query = \"\"\"\n",
        "SELECT p.BRAND, SUM(t.FINAL_SALE) AS total_sales, COUNT(t.RECEIPT_ID) AS transaction_count\n",
        "FROM transactions t\n",
        "JOIN products p ON t.BARCODE = p.BARCODE\n",
        "WHERE\n",
        "    p.CATEGORY_1 LIKE '%Dips & Salsa%'\n",
        "    OR p.CATEGORY_2 LIKE '%Dips & Salsa%'\n",
        "    OR p.CATEGORY_3 LIKE '%Dips & Salsa%'\n",
        "GROUP BY p.BRAND\n",
        "ORDER BY total_sales DESC, transaction_count DESC\n",
        "LIMIT 5;\n",
        "\"\"\"\n",
        "top_brands_dips_salsa  = pd.read_sql_query(query, conn)\n",
        "# Visualization: Bar Chart of Top 5 Brands by Sales\n",
        "plt.figure(figsize=(10, 5))\n",
        "plt.bar(top_brands_dips_salsa['BRAND'], top_brands_dips_salsa['total_sales'], color='orange')\n",
        "plt.xlabel('Brand')\n",
        "plt.ylabel('Total Sales ($)')\n",
        "plt.title('Top 5 Brands in Dips & Salsa Category by Sales')\n",
        "plt.xticks(rotation=45)\n",
        "plt.grid(axis='y', linestyle='--', alpha=0.7)\n",
        "plt.show()"
      ],
      "metadata": {
        "colab": {
          "base_uri": "https://localhost:8080/",
          "height": 559
        },
        "id": "MO9BVslSqwTQ",
        "outputId": "0ea230ba-dbbf-41e3-a73a-fc844d63a7b2"
      },
      "execution_count": 21,
      "outputs": [
        {
          "output_type": "display_data",
          "data": {
            "text/plain": [
              "<Figure size 1000x500 with 1 Axes>"
            ],
            "image/png": "[encoded data removed]"
          },
          "metadata": {}
        }
      ]
    },
    {
      "cell_type": "markdown",
      "source": [
        "6. At what percent has Fetch grown year over year?"
      ],
      "metadata": {
        "id": "E523wP-oM8Dn"
      }
    },
    {
      "cell_type": "code",
      "source": [
        "# SQL Query to Calculate Year-over-Year Growth in Transactions for Fetch\n",
        "query = \"\"\"\n",
        "WITH yearly_transactions AS (\n",
        "    SELECT strftime('%Y', PURCHASE_DATE) AS year, COUNT(RECEIPT_ID) AS total_transactions\n",
        "    FROM transactions\n",
        "    WHERE FINAL_SALE > 0  -- Consider only completed transactions\n",
        "    GROUP BY year\n",
        ")\n",
        "SELECT\n",
        "    year,\n",
        "    total_transactions,\n",
        "    LAG(total_transactions) OVER (ORDER BY year) AS previous_year_transactions,\n",
        "    ROUND(\n",
        "        (total_transactions - LAG(total_transactions) OVER (ORDER BY year)) * 100.0 /\n",
        "        LAG(total_transactions) OVER (ORDER BY year), 2\n",
        "    ) AS growth_percentage\n",
        "FROM yearly_transactions;\n",
        "\"\"\"\n",
        "\n",
        "# Execute query and fetch results into DataFrame\n",
        "fetch_growth_yoy = pd.read_sql_query(query, conn)\n",
        "\n",
        "# Print results\n",
        "print(fetch_growth_yoy)\n"
      ],
      "metadata": {
        "colab": {
          "base_uri": "https://localhost:8080/"
        },
        "id": "-shOWwIrLqGI",
        "outputId": "568b93ea-98c5-45de-beaa-e9f32d85294b"
      },
      "execution_count": 24,
      "outputs": [
        {
          "output_type": "stream",
          "name": "stdout",
          "text": [
            "   year  total_transactions previous_year_transactions growth_percentage\n",
            "0  2024               12242                       None              None\n"
          ]
        }
      ]
    },
    {
      "cell_type": "code",
      "source": [
        "\n",
        "\n",
        "# Convert year column to string for plotting\n",
        "fetch_growth_yoy['year'] = fetch_growth_yoy['year'].astype(str)\n",
        "\n",
        "# Check if there's enough data to plot\n",
        "if fetch_growth_yoy.shape[0] > 1:\n",
        "    # Plot Year-over-Year Growth Percentage\n",
        "    plt.figure(figsize=(8, 5))\n",
        "    plt.plot(fetch_growth_yoy['year'], fetch_growth_yoy['growth_percentage'], marker='o', linestyle='-', color='blue')\n",
        "    plt.xlabel('Year')\n",
        "    plt.ylabel('Growth Percentage (%)')\n",
        "    plt.title('Fetch Year-over-Year Growth')\n",
        "    plt.grid(True, linestyle='--', alpha=0.7)\n",
        "\n",
        "    # Show data points\n",
        "    for i, txt in enumerate(fetch_growth_yoy['growth_percentage']):\n",
        "        plt.annotate(f\"{txt}%\", (fetch_growth_yoy['year'][i], fetch_growth_yoy['growth_percentage'][i]),\n",
        "                     textcoords=\"offset points\", xytext=(0,5), ha='center')\n",
        "\n",
        "    plt.show()\n",
        "else:\n",
        "    print(\"Not enough data to calculate year-over-year growth.\")\n"
      ],
      "metadata": {
        "colab": {
          "base_uri": "https://localhost:8080/"
        },
        "id": "10yH5AQ0Mom-",
        "outputId": "d93d644c-d1fc-4052-836f-5f70f5ca1209"
      },
      "execution_count": 25,
      "outputs": [
        {
          "output_type": "stream",
          "name": "stdout",
          "text": [
            "Not enough data to calculate year-over-year growth.\n"
          ]
        }
      ]
    }
  ]
}